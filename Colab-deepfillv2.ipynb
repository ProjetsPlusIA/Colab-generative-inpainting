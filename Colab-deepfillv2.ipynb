{
  "nbformat": 4,
  "nbformat_minor": 0,
  "metadata": {
    "colab": {
      "name": "Colab-deepfillv2.ipynb",
      "provenance": [],
      "private_outputs": true,
      "collapsed_sections": []
    },
    "kernelspec": {
      "name": "python3",
      "display_name": "Python 3"
    },
    "accelerator": "GPU"
  },
  "cells": [
    {
      "cell_type": "markdown",
      "metadata": {
        "id": "_ZdY1yaC5sv5",
        "colab_type": "text"
      },
      "source": [
        "# Colab-deepfillv2\n",
        "\n",
        "A colab of [JiahuiYu/generative_inpainting](https://github.com/JiahuiYu/generative_inpainting).\n",
        "\n",
        "My fork is locared in [styler00dollar/Colab-generative-inpainting](https://github.com/styler00dollar/Colab-generative-inpainting).\n",
        "\n",
        "Currently only testing works properly. Training is WIP."
      ]
    },
    {
      "cell_type": "code",
      "metadata": {
        "id": "eZ3uMTawzAfL",
        "colab_type": "code",
        "cellView": "form",
        "colab": {}
      },
      "source": [
        "#@title Check GPU\n",
        "!nvidia-smi"
      ],
      "execution_count": null,
      "outputs": []
    },
    {
      "cell_type": "code",
      "metadata": {
        "id": "6CUYgNYZuvDh",
        "colab_type": "code",
        "cellView": "form",
        "colab": {}
      },
      "source": [
        "#@title Install\n",
        "%cd /content\n",
        "!pip install tensorflow==1.7.0\n",
        "!pip install git+https://github.com/JiahuiYu/neuralgym"
      ],
      "execution_count": null,
      "outputs": []
    },
    {
      "cell_type": "markdown",
      "metadata": {
        "id": "4iyi2S6f6eiB",
        "colab_type": "text"
      },
      "source": [
        "# Testing"
      ]
    },
    {
      "cell_type": "code",
      "metadata": {
        "id": "Ss02NGkIwCX-",
        "colab_type": "code",
        "cellView": "form",
        "colab": {}
      },
      "source": [
        "#@title Download git and models\n",
        "%cd /content/\n",
        "!git clone -b v2.0.0 https://github.com/JiahuiYu/generative_inpainting\n",
        "%cd /content/generative_inpainting\n",
        "!mkdir model_logs\n",
        "%cd model_logs\n",
        "!pip install gdown\n",
        "# celebHQ\n",
        "!mkdir /content/generative_inpainting/model_logs/release_celeba_hq_256_deepfill_v2\n",
        "%cd /content/generative_inpainting/model_logs/release_celeba_hq_256_deepfill_v2\n",
        "!gdown --id 1C7kPxqrpNpQF7B2UAKd_GvhUMk0prRdV\n",
        "!gdown --id 1ExY4hlx0DjVElqJlki57la3Qxu40uhgd\n",
        "!gdown --id 1z9dbEAzr5lmlCewixevFMTVBmNuSNAgK\n",
        "!gdown --id 1dyPD2hx0JTmMuHYa32j-pu--MXqgLgMy\n",
        "# places\n",
        "!mkdir /content/generative_inpainting/model_logs/release_places2_256_deepfill_v2\n",
        "%cd /content/generative_inpainting/model_logs/release_places2_256_deepfill_v2\n",
        "!gdown --id 1C7kPxqrpNpQF7B2UAKd_GvhUMk0prRdV\n",
        "!gdown --id 1ExY4hlx0DjVElqJlki57la3Qxu40uhgd\n",
        "!gdown --id 1z9dbEAzr5lmlCewixevFMTVBmNuSNAgK\n",
        "!gdown --id 1dyPD2hx0JTmMuHYa32j-pu--MXqgLgMy"
      ],
      "execution_count": null,
      "outputs": []
    },
    {
      "cell_type": "markdown",
      "metadata": {
        "id": "8X7Zv8o66-_y",
        "colab_type": "text"
      },
      "source": [
        "Place pictures in ```/content/image.png``` and ```/content/mask.png```. Result will be in ```/content/result.png```.\n",
        "\n",
        "Info: The mask is a black white image and the masked area is white."
      ]
    },
    {
      "cell_type": "code",
      "metadata": {
        "id": "KnRxOCJwvE2f",
        "colab_type": "code",
        "cellView": "form",
        "colab": {}
      },
      "source": [
        "#@title Run test\n",
        "%cd /content/generative_inpainting\n",
        "!python test.py --image /content/input.png --mask /content/mask.png --output /content/output.png --checkpoint_dir model_logs/release_places2_256_deepfill_v2"
      ],
      "execution_count": null,
      "outputs": []
    },
    {
      "cell_type": "markdown",
      "metadata": {
        "id": "hg9LcUPA7GpL",
        "colab_type": "text"
      },
      "source": [
        "# Training (currently experimental, it may or may not work)"
      ]
    },
    {
      "cell_type": "code",
      "metadata": {
        "id": "c93596hi0K1_",
        "colab_type": "code",
        "cellView": "form",
        "colab": {}
      },
      "source": [
        "#@title Creation of .flist generation (needs to be tested)\n",
        "%%writefile /content/generative_inpainting/prepare.py\n",
        "#!/usr/bin/python\n",
        "\n",
        "import argparse\n",
        "import os\n",
        "from random import shuffle\n",
        "\n",
        "parser = argparse.ArgumentParser()\n",
        "parser.add_argument('--folder_path', default='./training_data', type=str,\n",
        "                    help='The folder path')\n",
        "parser.add_argument('--train_filename', default='./data_flist/train_shuffled.flist', type=str,\n",
        "                    help='The output filename.')\n",
        "parser.add_argument('--validation_filename', default='./data_flist/validation_shuffled.flist', type=str,\n",
        "                    help='The output filename.')\n",
        "parser.add_argument('--is_shuffled', default='1', type=int,\n",
        "                    help='Needed to shuffle')\n",
        "\n",
        "if __name__ == \"__main__\":\n",
        "\n",
        "    args = parser.parse_args()\n",
        "\n",
        "    # get the list of directories\n",
        "    dirs = os.listdir(args.folder_path)\n",
        "    dirs_name_list = []\n",
        "\n",
        "    # make 2 lists to save file paths\n",
        "    training_file_names = []\n",
        "    validation_file_names = []\n",
        "\n",
        "    # print all directory names\n",
        "    for dir_item in dirs:\n",
        "        # modify to full path -> directory\n",
        "        dir_item = args.folder_path + \"/\" + dir_item\n",
        "        # print(dir_item)\n",
        "\n",
        "        training_folder = os.listdir('/content/generative_inpainting/training_data')\n",
        "        for training_item in training_folder:\n",
        "            #training_item = dir_item + \"/training\" + \"/\" + training_item\n",
        "            training_file_names.append(training_item)\n",
        "\n",
        "        validation_folder = os.listdir('/content/generative_inpainting/validation_data')\n",
        "        for validation_item in validation_folder:\n",
        "            #validation_item = dir_item + \"/validation\" + \"/\" + validation_item\n",
        "            validation_file_names.append(validation_item)\n",
        "    # print all file paths\n",
        "    for i in training_file_names:\n",
        "        print(i)\n",
        "    for i in validation_file_names:\n",
        "        print(i)\n",
        "\n",
        "    # This would print all the files and directories\n",
        "\n",
        "    # shuffle file names if set\n",
        "    if args.is_shuffled == 1:\n",
        "        shuffle(training_file_names)\n",
        "        shuffle(validation_file_names)\n",
        "\n",
        "    # make output file if not existed\n",
        "    if not os.path.exists(args.train_filename):\n",
        "        os.mknod(args.train_filename)\n",
        "\n",
        "    if not os.path.exists(args.validation_filename):\n",
        "        os.mknod(args.validation_filename)\n",
        "\n",
        "    # write to file\n",
        "    fo = open(args.train_filename, \"w\")\n",
        "    fo.write(\"\\n\".join(training_file_names))\n",
        "    fo.close()\n",
        "\n",
        "    fo = open(args.validation_filename, \"w\")\n",
        "    fo.write(\"\\n\".join(validation_file_names))\n",
        "    fo.close()\n",
        "\n",
        "    # print process\n",
        "    print(\"Written file is: \", args.train_filename, \", is_shuffle: \", args.is_shuffled)"
      ],
      "execution_count": null,
      "outputs": []
    },
    {
      "cell_type": "code",
      "metadata": {
        "id": "HskYuHyg0qC3",
        "colab_type": "code",
        "cellView": "form",
        "colab": {}
      },
      "source": [
        "#@title Running .flist generation\n",
        "%cd /content/generative_inpainting\n",
        "!python /content/generative_inpainting/prepare.py --folder_path /content/generative_inpainting/validation_data --train_filename /content/generative_inpainting/training_data/train.flist --validation_filename /content/generative_inpainting/validation_data/val.flist"
      ],
      "execution_count": null,
      "outputs": []
    },
    {
      "cell_type": "code",
      "metadata": {
        "id": "_cv1Em6X2J9H",
        "colab_type": "code",
        "cellView": "form",
        "colab": {}
      },
      "source": [
        "#@title Creating config\n",
        "%%writefile /content/generative_inpainting/inpaint.yml\n",
        "# =========================== Basic Settings ===========================\n",
        "# machine info\n",
        "num_gpus_per_job: 1  # number of gpus each job need\n",
        "num_cpus_per_job: 2  # number of gpus each job need\n",
        "num_hosts_per_job: 1\n",
        "memory_per_job: 32  # number of gpus each job need\n",
        "gpu_type: 'nvidia-tesla-p100'\n",
        "\n",
        "# parameters\n",
        "name: places2_gated_conv_v100  # any name\n",
        "model_restore: ''  # logs/places2_gated_conv\n",
        "dataset: 'celebahq'  # 'tmnist', 'dtd', 'places2', 'celeba', 'imagenet', 'cityscapes'\n",
        "random_crop: True  # Set to false when dataset is 'celebahq', meaning only resize the images to img_shapes, instead of crop img_shapes from a larger raw image. This is useful when you train on images with different resolutions like places2. In these cases, please set random_crop to true.\n",
        "val: True  # true if you want to view validation results in tensorboard\n",
        "log_dir: logs/full_model_celeba_hq_256\n",
        "\n",
        "gan: 'sngan'\n",
        "gan_loss_alpha: 1\n",
        "gan_with_mask: True\n",
        "discounted_mask: True\n",
        "random_seed: False\n",
        "padding: 'SAME'\n",
        "\n",
        "# training\n",
        "train_spe: 10\n",
        "max_iters: 100000000\n",
        "viz_max_out: 10\n",
        "val_psteps: 2000\n",
        "\n",
        "# data\n",
        "data_flist:\n",
        "  # https://github.com/jiahuiyu/progressive_growing_of_gans_tf\n",
        "  celebahq: [\n",
        "    '/content/generative_inpainting/training_data/train.flist',\n",
        "    '/content/generative_inpainting/validation_data/val.flist'\n",
        "  ]\n",
        "\n",
        "static_view_size: 30\n",
        "img_shapes: [256, 256, 3]\n",
        "height: 128\n",
        "width: 128\n",
        "max_delta_height: 32\n",
        "max_delta_width: 32\n",
        "batch_size: 4\n",
        "vertical_margin: 0\n",
        "horizontal_margin: 0\n",
        "\n",
        "# loss\n",
        "ae_loss: True\n",
        "l1_loss: True\n",
        "l1_loss_alpha: 1.\n",
        "\n",
        "# to tune\n",
        "guided: False\n",
        "edge_threshold: 0.6\n"
      ],
      "execution_count": null,
      "outputs": []
    },
    {
      "cell_type": "code",
      "metadata": {
        "id": "fPMujGtF3tj7",
        "colab_type": "code",
        "cellView": "form",
        "colab": {}
      },
      "source": [
        "#@title Getting tensorboard link (needs to be tested)\n",
        "LOG_DIR = '/content/generative_inpainting/logs/full_model_celeba_hq_256'\n",
        "get_ipython().system_raw(\n",
        "    'tensorboard --logdir {} --host 0.0.0.0 --port 6006 &'\n",
        "    .format(LOG_DIR)\n",
        ")\n",
        "! wget https://bin.equinox.io/c/4VmDzA7iaHb/ngrok-stable-linux-amd64.zip\n",
        "! unzip ngrok-stable-linux-amd64.zip\n",
        "get_ipython().system_raw('./ngrok http 6006 &')\n",
        "! curl -s http://localhost:4040/api/tunnels | python3 -c \\\n",
        "    \"import sys, json; print(json.load(sys.stdin)['tunnels'][0]['public_url'])\""
      ],
      "execution_count": null,
      "outputs": []
    },
    {
      "cell_type": "markdown",
      "metadata": {
        "id": "kJX5oTu08P3C",
        "colab_type": "text"
      },
      "source": [
        "Seems like progress printing got removed according to [this](https://github.com/JiahuiYu/generative_inpainting/issues/358). Don't panic. The official recommendation is to check GPU usage, but that is a bit hard in colab. If checkpoints get generated, then you can be sure it somehow works."
      ]
    },
    {
      "cell_type": "code",
      "metadata": {
        "id": "WTMVxobs0XLI",
        "colab_type": "code",
        "colab": {},
        "cellView": "form"
      },
      "source": [
        "#@title Starting training\n",
        "!python /content/generative_inpainting/train.py"
      ],
      "execution_count": null,
      "outputs": []
    }
  ]
}